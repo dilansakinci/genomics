{
 "cells": [
  {
   "cell_type": "code",
   "execution_count": 4,
   "id": "5bf14653",
   "metadata": {},
   "outputs": [],
   "source": [
    "seq = \"ACGT\" #define a sequence"
   ]
  },
  {
   "cell_type": "code",
   "execution_count": 6,
   "id": "eacbd7a7",
   "metadata": {},
   "outputs": [
    {
     "data": {
      "text/plain": [
       "'C'"
      ]
     },
     "execution_count": 6,
     "metadata": {},
     "output_type": "execute_result"
    }
   ],
   "source": [
    "seq[1]      #find a variable in a sequence"
   ]
  },
  {
   "cell_type": "code",
   "execution_count": 7,
   "id": "dd83cbb6",
   "metadata": {},
   "outputs": [
    {
     "data": {
      "text/plain": [
       "4"
      ]
     },
     "execution_count": 7,
     "metadata": {},
     "output_type": "execute_result"
    }
   ],
   "source": [
    "len(seq)     #find the length of the sequence"
   ]
  },
  {
   "cell_type": "code",
   "execution_count": 10,
   "id": "e2351540",
   "metadata": {},
   "outputs": [
    {
     "name": "stdout",
     "output_type": "stream",
     "text": [
      "CCAAGGTT\n"
     ]
    }
   ],
   "source": [
    "seq1 = \"CCAA\"\n",
    "seq2 = \"GGTT\"\n",
    "print(seq1 + seq2) #add two sequences into each other"
   ]
  },
  {
   "cell_type": "code",
   "execution_count": 11,
   "id": "0a8acb68",
   "metadata": {},
   "outputs": [
    {
     "name": "stdout",
     "output_type": "stream",
     "text": [
      "A,C,G,T\n"
     ]
    }
   ],
   "source": [
    "seqs = [\"A\", \"C\", \"G\", \"T\"]\n",
    "print(\",\".join(seqs))        #join your nucleotides with a , in between"
   ]
  },
  {
   "cell_type": "code",
   "execution_count": 12,
   "id": "93e3845f",
   "metadata": {},
   "outputs": [
    {
     "data": {
      "text/plain": [
       "'A'"
      ]
     },
     "execution_count": 12,
     "metadata": {},
     "output_type": "execute_result"
    }
   ],
   "source": [
    "import random\n",
    "random.choice(\"ACGT\")    #randomly select a nucleotide from your seq"
   ]
  },
  {
   "cell_type": "code",
   "execution_count": 15,
   "id": "2a8ce0ae",
   "metadata": {},
   "outputs": [
    {
     "name": "stdout",
     "output_type": "stream",
     "text": [
      "TGACCGCTGC\n"
     ]
    }
   ],
   "source": [
    "seq = \"\"\n",
    "for _ in range(10):             #randomly select nucleotides into seq\n",
    "    seq += random.choice(\"ACGT\")     #with the length of 10\n",
    "print(seq)"
   ]
  },
  {
   "cell_type": "code",
   "execution_count": 17,
   "id": "4220dfc8",
   "metadata": {},
   "outputs": [
    {
     "name": "stdout",
     "output_type": "stream",
     "text": [
      "AGCCTGAGCA\n"
     ]
    }
   ],
   "source": [
    "seq = \"\".join([random.choice(\"ACGT\") for _ in range(10)])\n",
    "print(seq)         #same with [15] but with different code"
   ]
  },
  {
   "cell_type": "code",
   "execution_count": 18,
   "id": "303900e9",
   "metadata": {},
   "outputs": [
    {
     "data": {
      "text/plain": [
       "'GC'"
      ]
     },
     "execution_count": 18,
     "metadata": {},
     "output_type": "execute_result"
    }
   ],
   "source": [
    "seq[1:3] #select variables from the seq above; 1 to 3, 3 not included"
   ]
  },
  {
   "cell_type": "code",
   "execution_count": 19,
   "id": "394f3c28",
   "metadata": {},
   "outputs": [
    {
     "data": {
      "text/plain": [
       "'AGC'"
      ]
     },
     "execution_count": 19,
     "metadata": {},
     "output_type": "execute_result"
    }
   ],
   "source": [
    "seq[:3]  #give variables from the beginning until 3, 3 not included"
   ]
  },
  {
   "cell_type": "code",
   "execution_count": 20,
   "id": "6b845bf4",
   "metadata": {},
   "outputs": [
    {
     "data": {
      "text/plain": [
       "'AGC'"
      ]
     },
     "execution_count": 20,
     "metadata": {},
     "output_type": "execute_result"
    }
   ],
   "source": [
    "seq[0:3] #you can use either :3 or 0:3 to make the same thing"
   ]
  },
  {
   "cell_type": "code",
   "execution_count": 21,
   "id": "25aa46df",
   "metadata": {},
   "outputs": [
    {
     "data": {
      "text/plain": [
       "'GCA'"
      ]
     },
     "execution_count": 21,
     "metadata": {},
     "output_type": "execute_result"
    }
   ],
   "source": [
    "seq[7:]  #gives the nts from 7 to the end"
   ]
  },
  {
   "cell_type": "code",
   "execution_count": 22,
   "id": "d50d9c6c",
   "metadata": {},
   "outputs": [
    {
     "data": {
      "text/plain": [
       "'GCA'"
      ]
     },
     "execution_count": 22,
     "metadata": {},
     "output_type": "execute_result"
    }
   ],
   "source": [
    "seq[7:len(seq)] #makes the same with [21]"
   ]
  },
  {
   "cell_type": "code",
   "execution_count": 23,
   "id": "1c4977a4",
   "metadata": {},
   "outputs": [
    {
     "data": {
      "text/plain": [
       "'G'"
      ]
     },
     "execution_count": 23,
     "metadata": {},
     "output_type": "execute_result"
    }
   ],
   "source": [
    "seq[-3] #gives the third character from the end"
   ]
  },
  {
   "cell_type": "code",
   "execution_count": null,
   "id": "d53c0da4",
   "metadata": {},
   "outputs": [],
   "source": []
  }
 ],
 "metadata": {
  "kernelspec": {
   "display_name": "Python 3 (ipykernel)",
   "language": "python",
   "name": "python3"
  },
  "language_info": {
   "codemirror_mode": {
    "name": "ipython",
    "version": 3
   },
   "file_extension": ".py",
   "mimetype": "text/x-python",
   "name": "python",
   "nbconvert_exporter": "python",
   "pygments_lexer": "ipython3",
   "version": "3.11.1"
  }
 },
 "nbformat": 4,
 "nbformat_minor": 5
}
