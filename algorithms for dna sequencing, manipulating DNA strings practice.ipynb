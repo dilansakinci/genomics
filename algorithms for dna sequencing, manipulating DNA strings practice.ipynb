{
 "cells": [
  {
   "cell_type": "code",
   "execution_count": 1,
   "id": "400ad969",
   "metadata": {},
   "outputs": [
    {
     "data": {
      "text/plain": [
       "'ACCA'"
      ]
     },
     "execution_count": 1,
     "metadata": {},
     "output_type": "execute_result"
    }
   ],
   "source": [
    "def longestCommonPrefix(s1, s2):\n",
    "    i = 0\n",
    "    while i < len(s1) and i < len(s2) and s1[i] == s2[i]:\n",
    "        i += 1                   #get the longest common prefix \n",
    "    return s1[:i]               #between two sequences\n",
    "longestCommonPrefix(\"ACCATGT\", \"ACCAGAC\")"
   ]
  },
  {
   "cell_type": "code",
   "execution_count": 2,
   "id": "24ec6141",
   "metadata": {},
   "outputs": [
    {
     "data": {
      "text/plain": [
       "True"
      ]
     },
     "execution_count": 2,
     "metadata": {},
     "output_type": "execute_result"
    }
   ],
   "source": [
    "def match(s1, s2):\n",
    "    if not len(s1) == len(s2):    #this code is used to find out\n",
    "        return False             #whether the two sequences are identical\n",
    "    for i in range(len(s1)):     #or not, if the lengths are not the same\n",
    "        if not s1[i] == s2[i]:   #it returns false, then it checks every\n",
    "            return False         #variable, if not the same, returns false\n",
    "                                 #if it cannot find any differences, it\n",
    "    return True                  #returns True, as in this case\n",
    "match(\"ATGCT\", \"ATGCT\")        "
   ]
  },
  {
   "cell_type": "code",
   "execution_count": 3,
   "id": "8fdad7dc",
   "metadata": {},
   "outputs": [
    {
     "data": {
      "text/plain": [
       "False"
      ]
     },
     "execution_count": 3,
     "metadata": {},
     "output_type": "execute_result"
    }
   ],
   "source": [
    "match(\"ATCGT\", \"AACCG\")      #in this case, match function returns False"
   ]
  },
  {
   "cell_type": "code",
   "execution_count": 4,
   "id": "e959c797",
   "metadata": {},
   "outputs": [
    {
     "data": {
      "text/plain": [
       "True"
      ]
     },
     "execution_count": 4,
     "metadata": {},
     "output_type": "execute_result"
    }
   ],
   "source": [
    "\"ACTGT\" == \"ACTGT\" #we can also use this to find identical seqs\n",
    "                    #this example is for true"
   ]
  },
  {
   "cell_type": "code",
   "execution_count": 5,
   "id": "3889b1bc",
   "metadata": {},
   "outputs": [
    {
     "data": {
      "text/plain": [
       "False"
      ]
     },
     "execution_count": 5,
     "metadata": {},
     "output_type": "execute_result"
    }
   ],
   "source": [
    "\"ACTGT\" == \"TCGAT\" #this example is for false\n",
    "                    #so, we can use pyhton's built-in feature rather\n",
    "                    #than writing a code..."
   ]
  },
  {
   "cell_type": "code",
   "execution_count": 6,
   "id": "c358433c",
   "metadata": {},
   "outputs": [],
   "source": [
    "complement = {\"A\":\"T\", \"C\":\"G\", \"G\":\"C\", \"T\":\"A\"}\n",
    "#function to get the reverse complement of a DNA strand can be defined\n",
    "#by beginning with complementing the nucleotides."
   ]
  },
  {
   "cell_type": "code",
   "execution_count": 7,
   "id": "2bb1a906",
   "metadata": {},
   "outputs": [
    {
     "data": {
      "text/plain": [
       "'G'"
      ]
     },
     "execution_count": 7,
     "metadata": {},
     "output_type": "execute_result"
    }
   ],
   "source": [
    "complement[\"C\"]   #so now, we defined a complement"
   ]
  },
  {
   "cell_type": "code",
   "execution_count": 8,
   "id": "ee061667",
   "metadata": {},
   "outputs": [
    {
     "data": {
      "text/plain": [
       "'T'"
      ]
     },
     "execution_count": 8,
     "metadata": {},
     "output_type": "execute_result"
    }
   ],
   "source": [
    "complement[\"A\"] #it gives the complementary nt to that nt "
   ]
  },
  {
   "cell_type": "code",
   "execution_count": 9,
   "id": "3ac49b47",
   "metadata": {},
   "outputs": [
    {
     "data": {
      "text/plain": [
       "'CGACGGT'"
      ]
     },
     "execution_count": 9,
     "metadata": {},
     "output_type": "execute_result"
    }
   ],
   "source": [
    "def reverseComplement(s):\n",
    "    complement = {\"A\":\"T\", \"C\":\"G\", \"G\":\"C\", \"T\":\"A\"}\n",
    "    t = \"\"                       #now we defined a function to reverse\n",
    "    for base in s:              #and then find the complementary of the\n",
    "        t= complement[base] + t    #reversed sequence; as you can see;\n",
    "    return t                   #ACCGTCG reversed GCTGCCA and;\n",
    "reverseComplement(\"ACCGTCG\")   #GCTGCCA complemented CGACGGT"
   ]
  }
 ],
 "metadata": {
  "kernelspec": {
   "display_name": "Python 3 (ipykernel)",
   "language": "python",
   "name": "python3"
  },
  "language_info": {
   "codemirror_mode": {
    "name": "ipython",
    "version": 3
   },
   "file_extension": ".py",
   "mimetype": "text/x-python",
   "name": "python",
   "nbconvert_exporter": "python",
   "pygments_lexer": "ipython3",
   "version": "3.11.1"
  }
 },
 "nbformat": 4,
 "nbformat_minor": 5
}
